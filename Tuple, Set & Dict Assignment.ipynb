{
 "cells": [
  {
   "cell_type": "markdown",
   "id": "00e11850-a584-47cc-a61f-f252fb07888f",
   "metadata": {},
   "source": [
    "1. What are the characteristics of the tuples? Is tuple immutable?"
   ]
  },
  {
   "cell_type": "markdown",
   "id": "db6ee937-6bc4-4d42-865f-c261861f7418",
   "metadata": {},
   "source": [
    "- Tuples are immutable, ordered and indexed\n",
    "\n",
    " - Yes tuple is immutable"
   ]
  },
  {
   "cell_type": "markdown",
   "id": "a4182267-af7d-4185-84e6-f7b5d67761e1",
   "metadata": {},
   "source": [
    "***"
   ]
  },
  {
   "cell_type": "markdown",
   "id": "1f7b542f-e8ce-414f-9fd9-ebd0df0ac3a4",
   "metadata": {},
   "source": [
    "2. What are the two tuple methods in python? Give an example of each method. Give a reason why\n",
    "tuples have only two in-built methods as compared to Lists."
   ]
  },
  {
   "cell_type": "markdown",
   "id": "b2dbd292-3365-49c0-b3db-ac39827ab1ae",
   "metadata": {},
   "source": [
    "- Two tuple methods in Python are COUNT and INDEX"
   ]
  },
  {
   "cell_type": "code",
   "execution_count": 1,
   "id": "39d53246-9903-48be-acba-7a3b487ba586",
   "metadata": {},
   "outputs": [],
   "source": [
    "t = (1,3,8,2,1,5,3,9,2,2)"
   ]
  },
  {
   "cell_type": "markdown",
   "id": "ea2adede-c345-41a6-8597-11243294b80e",
   "metadata": {},
   "source": [
    "##### COUNT"
   ]
  },
  {
   "cell_type": "code",
   "execution_count": 2,
   "id": "98b2f58e-dc40-4a07-adbb-b8a29a431379",
   "metadata": {},
   "outputs": [
    {
     "data": {
      "text/plain": [
       "3"
      ]
     },
     "execution_count": 2,
     "metadata": {},
     "output_type": "execute_result"
    }
   ],
   "source": [
    "t.count(2)"
   ]
  },
  {
   "cell_type": "markdown",
   "id": "b18d42b4-dce7-4495-8b34-72611106b9ea",
   "metadata": {},
   "source": [
    "##### INDEX"
   ]
  },
  {
   "cell_type": "code",
   "execution_count": 4,
   "id": "049e823a-a2db-4fe4-9f97-35d17c8324f6",
   "metadata": {},
   "outputs": [
    {
     "data": {
      "text/plain": [
       "5"
      ]
     },
     "execution_count": 4,
     "metadata": {},
     "output_type": "execute_result"
    }
   ],
   "source": [
    "t.index(5)"
   ]
  },
  {
   "cell_type": "markdown",
   "id": "70435a02-24b1-4b4a-b526-7ba140975fb9",
   "metadata": {},
   "source": [
    "- Tuples have only two in-built methods as compared to lists because tuples are **immutable**"
   ]
  },
  {
   "cell_type": "markdown",
   "id": "4cba24e9-7430-49bc-9e58-6e567645232f",
   "metadata": {},
   "source": [
    "***"
   ]
  },
  {
   "cell_type": "markdown",
   "id": "d7b7e8b8-9955-4872-a842-0fe96eed7022",
   "metadata": {},
   "source": [
    "3. Which collection datatypes in python do not allow duplicate items? Write a code using a set to remove\n",
    "duplicates from the given list.\n",
    "\n",
    "&emsp;&emsp; List = [1, 1, 1, 2, 1, 3, 1, 4, 2, 1, 2, 2, 2, 3, 2, 4, 3, 1, 3, 2, 3, 3, 3, 4, 4, 1, 4, 2, 4, 3, 4, 4]"
   ]
  },
  {
   "cell_type": "markdown",
   "id": "50d1f4da-104f-48b7-b122-a0859dfc0bb4",
   "metadata": {},
   "source": [
    "* Sets don't allow duplicate Items"
   ]
  },
  {
   "cell_type": "code",
   "execution_count": 7,
   "id": "0b9b5be9-168d-4448-8b50-208442785b7b",
   "metadata": {},
   "outputs": [
    {
     "data": {
      "text/plain": [
       "[1,\n",
       " 1,\n",
       " 1,\n",
       " 2,\n",
       " 1,\n",
       " 3,\n",
       " 1,\n",
       " 4,\n",
       " 2,\n",
       " 1,\n",
       " 2,\n",
       " 2,\n",
       " 2,\n",
       " 3,\n",
       " 2,\n",
       " 4,\n",
       " 3,\n",
       " 1,\n",
       " 3,\n",
       " 2,\n",
       " 3,\n",
       " 3,\n",
       " 3,\n",
       " 4,\n",
       " 4,\n",
       " 1,\n",
       " 4,\n",
       " 2,\n",
       " 4,\n",
       " 3,\n",
       " 4,\n",
       " 4]"
      ]
     },
     "execution_count": 7,
     "metadata": {},
     "output_type": "execute_result"
    }
   ],
   "source": [
    "list1 = [1,1,1,2,1,3,1,4,2,1,2,2,2,3,2,4,3,1,3,2,3,3,3,4,4,1,4,2,4,3,4,4]\n",
    "list1"
   ]
  },
  {
   "cell_type": "code",
   "execution_count": 9,
   "id": "c96fc5e4-f05e-48a0-991a-b9cc8f44c967",
   "metadata": {},
   "outputs": [
    {
     "data": {
      "text/plain": [
       "{1, 2, 3, 4}"
      ]
     },
     "execution_count": 9,
     "metadata": {},
     "output_type": "execute_result"
    }
   ],
   "source": [
    "s = set(list1)\n",
    "s"
   ]
  },
  {
   "cell_type": "markdown",
   "id": "ca7aa712-e30b-4195-a458-799e98b967a7",
   "metadata": {},
   "source": [
    "*** "
   ]
  },
  {
   "cell_type": "markdown",
   "id": "62904bae-502a-4b4a-b2c1-b2c2f547f559",
   "metadata": {},
   "source": [
    "4. Explain the difference between the union() and update() methods for a set. Give an example of\n",
    "each method."
   ]
  },
  {
   "cell_type": "code",
   "execution_count": 13,
   "id": "03e63ba3-edef-4264-b29f-7684c89cf7b9",
   "metadata": {},
   "outputs": [
    {
     "data": {
      "text/plain": [
       "{1, 2, 3, 4, 5, 6, 7, 8}"
      ]
     },
     "execution_count": 13,
     "metadata": {},
     "output_type": "execute_result"
    }
   ],
   "source": [
    "s1 = {1,2,3,4,5}\n",
    "s2 = {4,5,6,7,8}\n",
    "\n",
    "s1.union(s2)\n"
   ]
  },
  {
   "cell_type": "code",
   "execution_count": 14,
   "id": "0cc13414-e19d-4cfb-b3e6-ba3b98a4e0a7",
   "metadata": {},
   "outputs": [],
   "source": [
    "s1.update(s2)"
   ]
  },
  {
   "cell_type": "code",
   "execution_count": 15,
   "id": "7d535920-df98-4542-903b-88885ee666a6",
   "metadata": {},
   "outputs": [
    {
     "data": {
      "text/plain": [
       "{1, 2, 3, 4, 5, 6, 7, 8}"
      ]
     },
     "execution_count": 15,
     "metadata": {},
     "output_type": "execute_result"
    }
   ],
   "source": [
    "s1"
   ]
  },
  {
   "cell_type": "markdown",
   "id": "b3076dda-9bf6-4b7d-8cf7-cc6c89a571f4",
   "metadata": {},
   "source": [
    "* **union() returns the union of sets as a new set, update() works same as union but it is inplace and returns None i.e. it updates the set on which this method is called**"
   ]
  },
  {
   "cell_type": "markdown",
   "id": "dc0ec6db-809e-4701-bc31-beafa75a6f9d",
   "metadata": {},
   "source": [
    "*** "
   ]
  },
  {
   "cell_type": "markdown",
   "id": "0df75fd6-3903-4d92-9b77-f289bb603c1d",
   "metadata": {},
   "source": [
    "5. What is a dictionary? Give an example. Also, state whether a dictionary is ordered or unordered."
   ]
  },
  {
   "cell_type": "markdown",
   "id": "fe854122-15c6-4715-bcdc-a8d08765fe8f",
   "metadata": {},
   "source": [
    "* Dictionary is one of the collections in Python, which stores data in Key and Value pairs"
   ]
  },
  {
   "cell_type": "code",
   "execution_count": 18,
   "id": "ceea1bd5-3a0f-47a2-aa1f-b0de156c74b6",
   "metadata": {},
   "outputs": [
    {
     "data": {
      "text/plain": [
       "{'name': 'Teja', 'age': 22}"
      ]
     },
     "execution_count": 18,
     "metadata": {},
     "output_type": "execute_result"
    }
   ],
   "source": [
    "d = {\"name\":\"Teja\",\"age\":22}\n",
    "d"
   ]
  },
  {
   "cell_type": "markdown",
   "id": "a4f87b51-7b81-4b45-b8be-c9075b6c56a5",
   "metadata": {},
   "source": [
    "* From Python Version 3.7 dictionaries are Ordered"
   ]
  },
  {
   "cell_type": "markdown",
   "id": "bc9b3fe5-fa0b-4179-931a-aa027b93519a",
   "metadata": {},
   "source": [
    "*** "
   ]
  },
  {
   "cell_type": "markdown",
   "id": "6bcf5203-7eb4-49d4-9180-dc994cd4a651",
   "metadata": {},
   "source": [
    "6. Can we create a nested dictionary? If so, please give an example by creating a simple one-level\n",
    "nested dictionary."
   ]
  },
  {
   "cell_type": "markdown",
   "id": "bb444ae6-05ae-413b-a918-9e3aebdff741",
   "metadata": {},
   "source": [
    "* Yes, we can create a nested dictionary"
   ]
  },
  {
   "cell_type": "code",
   "execution_count": 19,
   "id": "7b5a7b77-ac3f-4d75-9b44-934bf95a1058",
   "metadata": {},
   "outputs": [
    {
     "data": {
      "text/plain": [
       "{'address': {'place': 'andhrapradesh'}}"
      ]
     },
     "execution_count": 19,
     "metadata": {},
     "output_type": "execute_result"
    }
   ],
   "source": [
    "nest_dict  = {\"address\":{\"place\":\"andhrapradesh\"}}\n",
    "nest_dict"
   ]
  },
  {
   "cell_type": "markdown",
   "id": "67938f71-0f0c-473e-954d-9cd61b6698f5",
   "metadata": {},
   "source": [
    "*** "
   ]
  },
  {
   "cell_type": "markdown",
   "id": "332c7276-69db-4c3a-8edf-2cc74873e4d7",
   "metadata": {},
   "source": [
    "7. Using setdefault() method, create key named topics in the given dictionary and also add the value of\n",
    "the key as this list ['Python', 'Machine Learning’, 'Deep Learning']\n",
    "\n",
    "&emsp;&emsp; dict1 = {'language' : 'Python', 'course': 'Data Science Masters'}"
   ]
  },
  {
   "cell_type": "code",
   "execution_count": 20,
   "id": "266ed49c-2615-4562-b317-38eb4ac012a2",
   "metadata": {},
   "outputs": [
    {
     "data": {
      "text/plain": [
       "{'language': 'Python', 'course': 'Data Science Masters'}"
      ]
     },
     "execution_count": 20,
     "metadata": {},
     "output_type": "execute_result"
    }
   ],
   "source": [
    "dict1 = {'language' : 'Python', 'course': 'Data Science Masters'}\n",
    "dict1"
   ]
  },
  {
   "cell_type": "code",
   "execution_count": 22,
   "id": "113e422b-e590-4377-9dec-a97b97a62deb",
   "metadata": {},
   "outputs": [
    {
     "data": {
      "text/plain": [
       "{'language': 'Python',\n",
       " 'course': 'Data Science Masters',\n",
       " 'named topics': ['Python', 'Machine Learning', 'Deep Learning']}"
      ]
     },
     "execution_count": 22,
     "metadata": {},
     "output_type": "execute_result"
    }
   ],
   "source": [
    "dict1.setdefault(\"named topics\",['Python','Machine Learning','Deep Learning'])\n",
    "dict1                                 "
   ]
  },
  {
   "cell_type": "markdown",
   "id": "6859b3f2-38c9-4039-9efa-a34f37df35ea",
   "metadata": {},
   "source": [
    "*** "
   ]
  },
  {
   "cell_type": "markdown",
   "id": "43e50fb5-9f0a-4b5b-9c6a-3f9b04adc470",
   "metadata": {},
   "source": [
    "8. What are the three view objects in dictionaries? Use the three in-built methods in python to display\n",
    "these three view objects for the given dictionary.\n",
    "\n",
    "&emsp; dict1 = {'Sport': 'Cricket' , 'Teams': ['India', 'Australia', 'England', 'South Africa', 'Sri Lanka', 'New Zealand']}"
   ]
  },
  {
   "cell_type": "markdown",
   "id": "e7e4d11a-937d-4e40-8f61-dc898f77f131",
   "metadata": {},
   "source": [
    "* Three view objects in dictionaries are **Keys, Values and Items**"
   ]
  },
  {
   "cell_type": "code",
   "execution_count": 23,
   "id": "4076b70f-b390-43ce-a0df-898e87b16f72",
   "metadata": {},
   "outputs": [
    {
     "data": {
      "text/plain": [
       "{'Sport': 'Cricket',\n",
       " 'Teams': ['India',\n",
       "  'Australia',\n",
       "  'England',\n",
       "  'South Africa',\n",
       "  'Sri Lanka',\n",
       "  'New Zealand']}"
      ]
     },
     "execution_count": 23,
     "metadata": {},
     "output_type": "execute_result"
    }
   ],
   "source": [
    " dict2 = {'Sport': 'Cricket' , 'Teams': ['India', 'Australia', 'England', 'South Africa', 'Sri Lanka', 'New Zealand']}\n",
    " dict2"
   ]
  },
  {
   "cell_type": "code",
   "execution_count": 24,
   "id": "02180305-3697-4484-9ef8-8b59a7fdff59",
   "metadata": {},
   "outputs": [
    {
     "data": {
      "text/plain": [
       "dict_keys(['Sport', 'Teams'])"
      ]
     },
     "execution_count": 24,
     "metadata": {},
     "output_type": "execute_result"
    }
   ],
   "source": [
    "dict2.keys()"
   ]
  },
  {
   "cell_type": "code",
   "execution_count": 25,
   "id": "fa1753a1-9c4d-4edc-8b82-a6bbe1b0d79b",
   "metadata": {},
   "outputs": [
    {
     "data": {
      "text/plain": [
       "dict_values(['Cricket', ['India', 'Australia', 'England', 'South Africa', 'Sri Lanka', 'New Zealand']])"
      ]
     },
     "execution_count": 25,
     "metadata": {},
     "output_type": "execute_result"
    }
   ],
   "source": [
    "dict2.values()"
   ]
  },
  {
   "cell_type": "code",
   "execution_count": 27,
   "id": "fb08f2d4-6581-4e64-b1b5-068c841c3fb7",
   "metadata": {},
   "outputs": [
    {
     "data": {
      "text/plain": [
       "dict_items([('Sport', 'Cricket'), ('Teams', ['India', 'Australia', 'England', 'South Africa', 'Sri Lanka', 'New Zealand'])])"
      ]
     },
     "execution_count": 27,
     "metadata": {},
     "output_type": "execute_result"
    }
   ],
   "source": [
    "dict2.items()"
   ]
  },
  {
   "cell_type": "markdown",
   "id": "8a336f83-645d-42b5-a799-3718875be5e1",
   "metadata": {},
   "source": [
    "*** "
   ]
  },
  {
   "cell_type": "code",
   "execution_count": null,
   "id": "24f62b5f-7cde-4d96-bd91-d2b19a8ce9ca",
   "metadata": {},
   "outputs": [],
   "source": []
  }
 ],
 "metadata": {
  "kernelspec": {
   "display_name": "Python 3 (ipykernel)",
   "language": "python",
   "name": "python3"
  },
  "language_info": {
   "codemirror_mode": {
    "name": "ipython",
    "version": 3
   },
   "file_extension": ".py",
   "mimetype": "text/x-python",
   "name": "python",
   "nbconvert_exporter": "python",
   "pygments_lexer": "ipython3",
   "version": "3.10.8"
  }
 },
 "nbformat": 4,
 "nbformat_minor": 5
}

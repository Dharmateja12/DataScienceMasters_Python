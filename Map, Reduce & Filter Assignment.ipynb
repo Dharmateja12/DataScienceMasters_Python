{
 "cells": [
  {
   "cell_type": "markdown",
   "id": "99f62227-62d6-40e3-a167-a2a397258c0e",
   "metadata": {},
   "source": [
    "**1. Create a python program to sort the given list of tuples based on integer value using a\n",
    "lambda function.**\n",
    "\n",
    "&emsp; **[('Sachin Tendulkar', 34357), ('Ricky Ponting', 27483), ('Jack Kallis', 25534), ('Virat Kohli', 24936)]**"
   ]
  },
  {
   "cell_type": "code",
   "execution_count": 1,
   "id": "fc67f70a-e271-4012-968b-252a258d7abe",
   "metadata": {},
   "outputs": [
    {
     "data": {
      "text/plain": [
       "[('Virat Kohli', 24936),\n",
       " ('Jack Kallis', 25534),\n",
       " ('Ricky Ponting', 27483),\n",
       " ('Sachin Tendulkar', 34357)]"
      ]
     },
     "execution_count": 1,
     "metadata": {},
     "output_type": "execute_result"
    }
   ],
   "source": [
    "l =  [('Sachin Tendulkar', 34357), ('Ricky Ponting', 27483), ('Jack Kallis', 25534), ('Virat Kohli', 24936)]\n",
    "\n",
    "sort_list_of_tuples = lambda x: sorted(x,key = lambda y:y[1])\n",
    "\n",
    "sort_list_of_tuples(l)"
   ]
  },
  {
   "cell_type": "markdown",
   "id": "e9659315-d5a0-43a2-8c6b-c8a14871afba",
   "metadata": {},
   "source": [
    "*** "
   ]
  },
  {
   "cell_type": "markdown",
   "id": "973eb6ee-ae5d-4b42-bae0-e27f31f6b5ba",
   "metadata": {},
   "source": [
    "**2. Write a Python Program to find the squares of all the numbers in the given list of integers using\n",
    "lambda and map functions.**\n",
    "\n",
    "**[1, 2, 3, 4, 5, 6, 7, 8, 9, 10]**"
   ]
  },
  {
   "cell_type": "code",
   "execution_count": 2,
   "id": "8f84d9cb-ec94-4686-97db-54f291e42a9d",
   "metadata": {},
   "outputs": [
    {
     "name": "stdout",
     "output_type": "stream",
     "text": [
      "[1, 4, 9, 16, 25, 36, 49, 64, 81, 100]\n"
     ]
    }
   ],
   "source": [
    "l2 = [1, 2, 3, 4, 5, 6, 7, 8, 9, 10]\n",
    "\n",
    "square = list(map(lambda x:x**2,l2))\n",
    "print(square)"
   ]
  },
  {
   "cell_type": "markdown",
   "id": "ee86cc90-4568-4b96-af43-7f3feba5a2b6",
   "metadata": {},
   "source": [
    "***"
   ]
  },
  {
   "cell_type": "markdown",
   "id": "15be5965-e39f-4dc2-8089-5361576785be",
   "metadata": {},
   "source": [
    "**3. Write a python program to convert the given list of integers into a tuple of strings. Use map and\n",
    "lambda functions**\n",
    "\n",
    "**Given String: [1, 2, 3, 4, 5, 6, 7, 8, 9, 10]**\n",
    "\n",
    "**Expected output: ('1', '2', '3', '4', '5', '6', '7', '8', '9', '10')**"
   ]
  },
  {
   "cell_type": "code",
   "execution_count": 3,
   "id": "bb337769-fcfa-43b7-bb02-1df5e3b1c456",
   "metadata": {},
   "outputs": [
    {
     "name": "stdout",
     "output_type": "stream",
     "text": [
      "('1', '2', '3', '4', '5', '6', '7', '8', '9', '10')\n"
     ]
    }
   ],
   "source": [
    "l3 = [1, 2, 3, 4, 5, 6, 7, 8, 9, 10]\n",
    "\n",
    "ts = tuple(map(lambda x:str(x),l3))\n",
    "print(ts)"
   ]
  },
  {
   "cell_type": "markdown",
   "id": "3c9352db-6304-43f9-bcb5-b62459af7595",
   "metadata": {},
   "source": [
    "***"
   ]
  },
  {
   "cell_type": "markdown",
   "id": "c82d616e-313a-479d-b37e-3b5bf0e5aa76",
   "metadata": {},
   "source": [
    "**4. Write a python program using reduce function to compute the product of a list containing numbers\n",
    "from 1 to 25.**"
   ]
  },
  {
   "cell_type": "code",
   "execution_count": 5,
   "id": "38abaaa1-a829-4194-84cc-ce8fc86f740a",
   "metadata": {},
   "outputs": [
    {
     "name": "stdout",
     "output_type": "stream",
     "text": [
      "Product of numbers from 1 to 25 is: 15511210043330985984000000\n"
     ]
    }
   ],
   "source": [
    "l4 = [1,2,3,4,5,6,7,8,9,10,11,12,13,14,15,16,17,18,19,20,21,22,23,24,25]\n",
    "\n",
    "from functools import reduce\n",
    "\n",
    "print(f\"Product of numbers from 1 to 25 is: {reduce(lambda x,y:x*y,l4)}\")"
   ]
  },
  {
   "cell_type": "markdown",
   "id": "b6424332-be49-4196-aa5f-ec26e7750948",
   "metadata": {},
   "source": [
    "***"
   ]
  },
  {
   "cell_type": "markdown",
   "id": "a0cc429e-b175-4357-be5c-8a15099aa904",
   "metadata": {},
   "source": [
    "**5. Write a python program to filter the numbers in a given list that are divisible by 2 and 3 using the\n",
    "filter function.**\n",
    "\n",
    "**[2, 3, 6, 9, 27, 60, 90, 120, 55, 46]**"
   ]
  },
  {
   "cell_type": "code",
   "execution_count": 6,
   "id": "0473366b-610b-4975-b48a-95fcdd8bd7c4",
   "metadata": {},
   "outputs": [
    {
     "name": "stdout",
     "output_type": "stream",
     "text": [
      "[6, 60, 90, 120]\n"
     ]
    }
   ],
   "source": [
    "l5 = [2, 3, 6, 9, 27, 60, 90, 120, 55, 46]\n",
    "\n",
    "filtered_list  = list(filter( lambda x:x%2==0 and x%3==0,l5))\n",
    "\n",
    "print(filtered_list)"
   ]
  },
  {
   "cell_type": "markdown",
   "id": "c08764f9-326f-4302-957a-e6dc8b72c69c",
   "metadata": {},
   "source": [
    "***"
   ]
  },
  {
   "cell_type": "markdown",
   "id": "b4e2eda7-2467-4171-beb5-63d3ad4b3f7e",
   "metadata": {},
   "source": [
    "**6. Write a python program to find palindromes in the given list of strings using lambda and filter\n",
    "function.**\n",
    "\n",
    "&emsp; **['python', 'php', 'aba', 'radar', 'level']**"
   ]
  },
  {
   "cell_type": "code",
   "execution_count": 8,
   "id": "8134cfba-4b95-4273-a5c3-ddd877f43c91",
   "metadata": {},
   "outputs": [
    {
     "name": "stdout",
     "output_type": "stream",
     "text": [
      "['php', 'aba', 'radar', 'level']\n"
     ]
    }
   ],
   "source": [
    "l6 = ['python', 'php', 'aba', 'radar', 'level']\n",
    "\n",
    "palindromes = list(filter(lambda x:x==x[::-1],l6))\n",
    "\n",
    "print(palindromes)"
   ]
  },
  {
   "cell_type": "markdown",
   "id": "0a5e75f2-5ffd-482f-9316-1149ce359df2",
   "metadata": {},
   "source": [
    "***"
   ]
  }
 ],
 "metadata": {
  "kernelspec": {
   "display_name": "Python 3 (ipykernel)",
   "language": "python",
   "name": "python3"
  },
  "language_info": {
   "codemirror_mode": {
    "name": "ipython",
    "version": 3
   },
   "file_extension": ".py",
   "mimetype": "text/x-python",
   "name": "python",
   "nbconvert_exporter": "python",
   "pygments_lexer": "ipython3",
   "version": "3.10.8"
  }
 },
 "nbformat": 4,
 "nbformat_minor": 5
}

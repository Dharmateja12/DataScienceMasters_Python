{
 "cells": [
  {
   "cell_type": "markdown",
   "id": "3fa482b5-6044-45c1-a06e-181cbaae930c",
   "metadata": {},
   "source": [
    "**1. Which keyword is used to create a function? Create a function to return a list of odd numbers in the\n",
    "range of 1 to 25.**"
   ]
  },
  {
   "cell_type": "markdown",
   "id": "7b576c42-c705-4de4-b89b-30b7ae846211",
   "metadata": {},
   "source": [
    "* **def** is used to create a function"
   ]
  },
  {
   "cell_type": "code",
   "execution_count": 2,
   "id": "efcaae93-a8d3-4be3-913c-6399cdddf7f5",
   "metadata": {},
   "outputs": [
    {
     "data": {
      "text/plain": [
       "[1, 3, 5, 7, 9, 11, 13, 15, 17, 19, 21, 23, 25]"
      ]
     },
     "execution_count": 2,
     "metadata": {},
     "output_type": "execute_result"
    }
   ],
   "source": [
    "def odd_numbers():\n",
    "    l=[]\n",
    "    for i in range(1,26):\n",
    "        if i%2 != 0:\n",
    "            l.append(i)        \n",
    "    return l   \n",
    "\n",
    "odd_numbers()"
   ]
  },
  {
   "cell_type": "markdown",
   "id": "64b760b2-59ca-4611-9b41-989f8c5d3f7c",
   "metadata": {},
   "source": [
    "***"
   ]
  },
  {
   "cell_type": "markdown",
   "id": "64722d94-3931-4bc8-9642-fbbf56bb7ba7",
   "metadata": {},
   "source": [
    "**2. Why \\*args and \\*\\*kwargs is used in some functions? Create a function each for \\*args and \\*\\*kwargs to\n",
    "demonstrate their use.**"
   ]
  },
  {
   "cell_type": "markdown",
   "id": "a21f5c16-2a70-469e-8627-482f6b88fdcc",
   "metadata": {},
   "source": [
    "* *args and **kwargs are used in functions when we are not sure about the number of arguments to pass to the functions"
   ]
  },
  {
   "cell_type": "code",
   "execution_count": 5,
   "id": "9ae2c4e0-3c8b-49ed-a7c5-96d46293439e",
   "metadata": {},
   "outputs": [
    {
     "name": "stdout",
     "output_type": "stream",
     "text": [
      "3\n",
      "6\n",
      "10\n",
      "15\n"
     ]
    }
   ],
   "source": [
    "def sum_args(*args):\n",
    "    total = 0\n",
    "    for i in args:\n",
    "        total += i\n",
    "    return total\n",
    "\n",
    "print(sum_args(1,2))\n",
    "print(sum_args(1,2,3))\n",
    "print(sum_args(1,2,3,4))\n",
    "print(sum_args(1,2,3,4,5))"
   ]
  },
  {
   "cell_type": "code",
   "execution_count": 6,
   "id": "b3be52c8-72de-4a37-8399-21a038d2bd02",
   "metadata": {},
   "outputs": [
    {
     "name": "stdout",
     "output_type": "stream",
     "text": [
      "3\n",
      "6\n",
      "10\n",
      "15\n"
     ]
    }
   ],
   "source": [
    "def sum_args(**kwargs):\n",
    "    total = 0\n",
    "    for i in kwargs:\n",
    "        total += kwargs[i]\n",
    "    return total\n",
    "\n",
    "print(sum_args(a=1,b=2))\n",
    "print(sum_args(a=1,b=2,c=3))\n",
    "print(sum_args(a=1,b=2,c=3,d=4))\n",
    "print(sum_args(a=1,b=2,c=3,d=4,e=5))"
   ]
  },
  {
   "cell_type": "markdown",
   "id": "d5a7f814-125d-4844-8aff-098f8f3625ac",
   "metadata": {},
   "source": [
    "*** "
   ]
  },
  {
   "cell_type": "markdown",
   "id": "f81169a3-b42b-41d5-a917-a928fb90efea",
   "metadata": {},
   "source": [
    "**3. What is an iterator in python? Name the method used to initialise the iterator object and the method\n",
    "used for iteration. Use these methods to print the first five elements of the given list [2, 4, 6, 8, 10, 12, 14, 16,\n",
    "18, 20].**"
   ]
  },
  {
   "cell_type": "markdown",
   "id": "0fcb05fb-c6a4-45d2-bad7-6b723b75db65",
   "metadata": {},
   "source": [
    "* An iterator is an object that is used to iterate or loop through the elements or items in the collections such as List, Set, etc."
   ]
  },
  {
   "cell_type": "markdown",
   "id": "f0b27bfa-5120-4cde-8124-c513dd878f92",
   "metadata": {},
   "source": [
    "* **iter()** method is used to initialise the iterator object and **next()** method is used for iteration over iterable object"
   ]
  },
  {
   "cell_type": "code",
   "execution_count": 7,
   "id": "eeb56963-091b-4040-811c-df154aa2068c",
   "metadata": {},
   "outputs": [
    {
     "name": "stdout",
     "output_type": "stream",
     "text": [
      "2\n",
      "4\n",
      "6\n",
      "8\n",
      "10\n"
     ]
    }
   ],
   "source": [
    "list1 = [2,4,6,8,10,12,14,16,18,20]\n",
    "iterator = iter(list1)\n",
    "\n",
    "print(next(iterator))\n",
    "print(next(iterator))\n",
    "print(next(iterator))\n",
    "print(next(iterator))\n",
    "print(next(iterator))"
   ]
  },
  {
   "cell_type": "markdown",
   "id": "a4da4b1c-f341-4364-8f82-7b1ce31973fc",
   "metadata": {},
   "source": [
    "*** "
   ]
  },
  {
   "cell_type": "markdown",
   "id": "0c34dbcd-bd40-4da5-8adf-c7d8b9a9373f",
   "metadata": {},
   "source": [
    "**4. What is a generator function in python? Why yield keyword is used? Give an example of a generator\n",
    "function.**"
   ]
  },
  {
   "cell_type": "markdown",
   "id": "68b775e7-a8a8-4b1b-a2ec-113102b288bf",
   "metadata": {},
   "source": [
    "* In Python, a generator is a function that returns an iterator that produces a sequence of values when iterated over.\n",
    "\n",
    "* Generators are useful when we want to produce a large sequence of values, but we don't want to store all of them in memory at once.\n",
    "\n",
    "* When the generator function is called, it does not execute the function body immediately. Instead, it returns a generator object that can be iterated over to produce the values."
   ]
  },
  {
   "cell_type": "markdown",
   "id": "4cd80f28-566a-4679-a564-3815f647910a",
   "metadata": {},
   "source": [
    "* The **yield** statement suspends a function’s execution and sends a value back to the caller, but retains enough state to enable the function to resume where it left off. When the function resumes, it continues execution immediately after the last yield run. This allows its code to produce a series of values over time, rather than computing them at once and sending them back like a list."
   ]
  },
  {
   "cell_type": "code",
   "execution_count": 9,
   "id": "517e5bd1-9364-4c3e-99f6-ca178dc22e50",
   "metadata": {},
   "outputs": [
    {
     "name": "stdout",
     "output_type": "stream",
     "text": [
      "1\n",
      "4\n",
      "9\n",
      "16\n",
      "25\n",
      "36\n",
      "49\n"
     ]
    }
   ],
   "source": [
    "def square_numbers():\n",
    "    i=1\n",
    "    while True:\n",
    "        yield i*i\n",
    "        i += 1\n",
    "    \n",
    "for j in square_numbers():\n",
    "    if j>50:\n",
    "        break\n",
    "    print(j)    "
   ]
  },
  {
   "cell_type": "markdown",
   "id": "8dd964d0-8004-46c9-8ba7-c5e640a87f00",
   "metadata": {},
   "source": [
    "*** "
   ]
  },
  {
   "cell_type": "markdown",
   "id": "afdfbbbe-fba8-49dd-975e-fa6cf6190d77",
   "metadata": {},
   "source": [
    "**5. Create a generator function for prime numbers less than 1000. Use the next() method to print the\n",
    "first 20 prime numbers.**"
   ]
  },
  {
   "cell_type": "code",
   "execution_count": 26,
   "id": "b8b0653a-1772-4040-9265-21c731d3c9cd",
   "metadata": {},
   "outputs": [
    {
     "name": "stdout",
     "output_type": "stream",
     "text": [
      "First 20 Prime Numbers:\n",
      "2,3,5,7,11,13,17,19,23,29,31,37,41,43,47,53,59,61,67,71,\n",
      "Remaining Prime Numbers:\n",
      "73,79,83,89,97,101,103,107,109,113,127,131,137,139,149,151,157,163,167,173,179,181,191,193,197,199,211,223,227,229,233,239,241,251,257,263,269,271,277,281,283,293,307,311,313,317,331,337,347,349,353,359,367,373,379,383,389,397,401,409,419,421,431,433,439,443,449,457,461,463,467,479,487,491,499,503,509,521,523,541,547,557,563,569,571,577,587,593,599,601,607,613,617,619,631,641,643,647,653,659,661,673,677,683,691,701,709,719,727,733,739,743,751,757,761,769,773,787,797,809,811,821,823,827,829,839,853,857,859,863,877,881,883,887,907,911,919,929,937,941,947,953,967,971,977,983,991,997,"
     ]
    }
   ],
   "source": [
    "def prime_numbers(n):\n",
    "    \n",
    "    for i in range(2,n):\n",
    "        if i==1:\n",
    "            continue\n",
    "        elif i==2:\n",
    "            yield i\n",
    "        elif i>2:\n",
    "            flag = 0\n",
    "            for j in range(2,i):\n",
    "                if i%j == 0:\n",
    "                    flag=1\n",
    "                    break\n",
    "            if flag==0:\n",
    "                yield i\n",
    "                \n",
    "                \n",
    "prime_iter = prime_numbers(1000)\n",
    "print(\"First 20 Prime Numbers:\")\n",
    "for k in range(1,21):\n",
    "    print(next(prime_iter),end=\",\")\n",
    "print(\"\\n \\rRemaining Prime Numbers:\")    \n",
    "for l in prime_iter:\n",
    "    print(l,end=\",\")\n",
    "\n",
    "        "
   ]
  },
  {
   "cell_type": "markdown",
   "id": "467c9bbb-ae25-4b1f-8436-757300ba6e21",
   "metadata": {},
   "source": [
    "***"
   ]
  },
  {
   "cell_type": "code",
   "execution_count": null,
   "id": "b5143d32-f0a5-42d8-849e-85df398e5840",
   "metadata": {},
   "outputs": [],
   "source": []
  }
 ],
 "metadata": {
  "kernelspec": {
   "display_name": "Python 3 (ipykernel)",
   "language": "python",
   "name": "python3"
  },
  "language_info": {
   "codemirror_mode": {
    "name": "ipython",
    "version": 3
   },
   "file_extension": ".py",
   "mimetype": "text/x-python",
   "name": "python",
   "nbconvert_exporter": "python",
   "pygments_lexer": "ipython3",
   "version": "3.10.8"
  }
 },
 "nbformat": 4,
 "nbformat_minor": 5
}

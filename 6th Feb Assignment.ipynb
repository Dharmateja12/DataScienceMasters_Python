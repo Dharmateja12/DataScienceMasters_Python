{
 "cells": [
  {
   "cell_type": "markdown",
   "id": "e40c2043-4025-42b6-8b40-41c55ed212d0",
   "metadata": {},
   "source": [
    "**1. Create a function which will take a list as an argument and return the product of all the numbers\n",
    "after creating a flat list.**\n",
    "\n",
    "**Use the below-given list as an argument for your function.**\n",
    "\n",
    "**list1 = [1,2,3,4, [44,55,66, True], False, (34,56,78,89,34), {1,2,3,3,2,1}, {1:34, \"key2\": [55, 67, 78, 89], 4: (45,22, 61, 34)}, [56, 'data science'], 'Machine Learning']**\n",
    "\n",
    "**Note: you must extract numeric keys and values of the dictionary also.**"
   ]
  },
  {
   "cell_type": "code",
   "execution_count": 1,
   "id": "182fe686-7248-415e-ba6b-2aa25e42552e",
   "metadata": {},
   "outputs": [],
   "source": [
    "list1 = [1,2,3,4, [44,55,66, True], False, (34,56,78,89,34), {1,2,3,3,2,1}, {1:34, \"key2\": [55, 67, 78, 89], 4: (45,22, 61, 34)}, [56, 'data science'], 'Machine Learning']"
   ]
  },
  {
   "cell_type": "code",
   "execution_count": 2,
   "id": "4e36e627-e058-4427-b9f2-0f388728eab0",
   "metadata": {},
   "outputs": [],
   "source": [
    "def flatten(x):\n",
    "    flat_list = []\n",
    "    for i in x:\n",
    "        if type(i)==int or type(i)==float:\n",
    "            flat_list.append(i)\n",
    "        elif type(i)==list or type(i)==tuple or type(i)==set:\n",
    "            for j in i:\n",
    "                if type(j)==int or type(j)==float:\n",
    "                     flat_list.append(j)\n",
    "        elif type(i)==dict:\n",
    "            for k in i.keys():\n",
    "                if type(k)==int or type(k)==float:\n",
    "                     flat_list.append(k)\n",
    "            for l in i.values():\n",
    "                if type(l)==int or type(l)==float:\n",
    "                     flat_list.append(l)\n",
    "                elif type(l)==list or type(l)==tuple or type(l)==set:\n",
    "                    for j in l:\n",
    "                        if type(j)==int or type(j)==float:\n",
    "                            flat_list.append(j)\n",
    "                \n",
    "                \n",
    "                \n",
    "    return flat_list        \n",
    "            "
   ]
  },
  {
   "cell_type": "code",
   "execution_count": 3,
   "id": "21a88f76-2617-4aee-97ab-799a5a424d57",
   "metadata": {},
   "outputs": [
    {
     "name": "stdout",
     "output_type": "stream",
     "text": [
      "[1, 2, 3, 4, 44, 55, 66, 34, 56, 78, 89, 34, 1, 2, 3, 1, 4, 34, 55, 67, 78, 89, 45, 22, 61, 34, 56]\n"
     ]
    }
   ],
   "source": [
    "list2 =flatten(list1)\n",
    "print(list2)"
   ]
  },
  {
   "cell_type": "code",
   "execution_count": 4,
   "id": "7a5fca41-e0ca-44ad-9255-04f8cda8bbbc",
   "metadata": {},
   "outputs": [
    {
     "name": "stdout",
     "output_type": "stream",
     "text": [
      "Product of all numbers is 4134711838987085478833841242112000\n"
     ]
    }
   ],
   "source": [
    "from functools import reduce\n",
    "\n",
    "print(f\"Product of all numbers is {reduce(lambda x,y:x*y,list2)}\")"
   ]
  },
  {
   "cell_type": "markdown",
   "id": "1200ac26-a4c4-40aa-a3c0-eaf510c40db6",
   "metadata": {},
   "source": [
    "***"
   ]
  },
  {
   "cell_type": "markdown",
   "id": "5bc7878b-5cb9-43b3-af56-892eee036677",
   "metadata": {},
   "source": [
    "**2. Write a python program for encrypting a message sent to you by your friend. The logic of encryption\n",
    "should be such that, for a the output should be z. For b, the output should be y. For c, the output should\n",
    "be x respectively. Also, the whitespace should be replaced with a dollar sign. Keep the punctuation\n",
    "marks unchanged.**\n",
    "\n",
    "**Input Sentence: I want to become a Data Scientist.**\n",
    "\n",
    "**Encrypt the above input sentence using the program you just created.**\n",
    "\n",
    "**Note: Convert the given input sentence into lowercase before encrypting. The final output should be\n",
    "lowercase.**"
   ]
  },
  {
   "cell_type": "code",
   "execution_count": 5,
   "id": "370e204e-ba8e-4562-9389-f395565d1520",
   "metadata": {},
   "outputs": [],
   "source": [
    "def Encrypt(message):\n",
    "    encrypted_message = []\n",
    "    alphabet = []\n",
    "    for i in range(97, 123):\n",
    "        alphabet.append(chr(i))\n",
    "        \n",
    "    alphabet2 = alphabet[::-1]\n",
    "    \n",
    "    for i in message.lower():\n",
    "        if i == \" \":\n",
    "            encrypted_message.append(\"$\")\n",
    "        elif ord(i)>=97 and ord(i)<=122:\n",
    "            encrypted_message.append(alphabet2[alphabet.index(i)])\n",
    "        else:\n",
    "            encrypted_message.append(i)\n",
    "            \n",
    "    return encrypted_message\n",
    "            \n",
    "                                               \n",
    "        "
   ]
  },
  {
   "cell_type": "code",
   "execution_count": 6,
   "id": "9913eecb-784e-415f-be7b-b71050e2455f",
   "metadata": {},
   "outputs": [
    {
     "name": "stdout",
     "output_type": "stream",
     "text": [
      "Encrypted message is : r$dzmg$gl$yvxlnv$z$wzgz$hxrvmgrhg.\n"
     ]
    }
   ],
   "source": [
    "Input_sentence = \"I want to become a Data Scientist.\"\n",
    "em = \"\".join(Encrypt(Input_sentence))\n",
    "print(f\"Encrypted message is : {em}\")\n"
   ]
  },
  {
   "cell_type": "code",
   "execution_count": null,
   "id": "c4f23202-b4aa-4715-9974-a4c406db2bd7",
   "metadata": {},
   "outputs": [],
   "source": []
  }
 ],
 "metadata": {
  "kernelspec": {
   "display_name": "Python 3 (ipykernel)",
   "language": "python",
   "name": "python3"
  },
  "language_info": {
   "codemirror_mode": {
    "name": "ipython",
    "version": 3
   },
   "file_extension": ".py",
   "mimetype": "text/x-python",
   "name": "python",
   "nbconvert_exporter": "python",
   "pygments_lexer": "ipython3",
   "version": "3.10.8"
  }
 },
 "nbformat": 4,
 "nbformat_minor": 5
}

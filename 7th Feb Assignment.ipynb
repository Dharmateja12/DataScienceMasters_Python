{
 "cells": [
  {
   "cell_type": "markdown",
   "id": "f1ba6b5a-7113-4b2f-8096-aa1d06e020a5",
   "metadata": {},
   "source": [
    "**1. You are writing code for a company. The requirement of the company is that you create a python\n",
    "function that will check whether the password entered by the user is correct or not. The function should\n",
    "take the password as input and return the string “Valid Password” if the entered password follows the\n",
    "below-given password guidelines else it should return “Invalid Password”.**\n",
    "\n",
    "**Note:** <br>\n",
    "**1. The Password should contain at least two uppercase letters and at least two lowercase letters.**<br>\n",
    "**2. The Password should contain at least a number and three special characters.**<br>\n",
    "**3. The length of the password should be 10 characters long.**<br>"
   ]
  },
  {
   "cell_type": "code",
   "execution_count": 5,
   "id": "6f107afa-c613-4156-9cfe-62b34596fed2",
   "metadata": {},
   "outputs": [],
   "source": [
    "def password_check(password):\n",
    "    flag1,flag2,flag3,flag4 = 0,0,0,0\n",
    "    if len(password)!= 10:\n",
    "        return \"Invalid Password\"\n",
    "    for i in password:\n",
    "        if i.isupper():\n",
    "            flag1 += 1\n",
    "         \n",
    "        if i.islower():\n",
    "            flag2 += 1\n",
    "        \n",
    "        if i.isdigit():\n",
    "            flag3 += 1\n",
    "             \n",
    "        if 33<=ord(i)<=47 or 58<=ord(i)<=64 or 91<=ord(i)<=96 or 123<=ord(i)<=126:\n",
    "            flag4 += 1\n",
    "            \n",
    "    if flag1>=2 and flag2>=2 and flag3>=1 and flag4>=3:\n",
    "        return \"Valid Password\"\n",
    "    else:\n",
    "        return \"Invalid Password\"\n",
    "    "
   ]
  },
  {
   "cell_type": "code",
   "execution_count": 7,
   "id": "f2dcf9ce-5d0f-47d1-b263-7930b744bcc1",
   "metadata": {},
   "outputs": [
    {
     "name": "stdin",
     "output_type": "stream",
     "text": [
      "Enter your password:  ayycd\n"
     ]
    },
    {
     "data": {
      "text/plain": [
       "'Invalid Password'"
      ]
     },
     "execution_count": 7,
     "metadata": {},
     "output_type": "execute_result"
    }
   ],
   "source": [
    "password = input(\"Enter your password: \")\n",
    "password_check(password)"
   ]
  },
  {
   "cell_type": "code",
   "execution_count": 8,
   "id": "c8ad2c96-05f8-4dfa-93fc-9c8027bee64e",
   "metadata": {},
   "outputs": [
    {
     "name": "stdin",
     "output_type": "stream",
     "text": [
      "Enter your password:  bdwbcd6%^ hheGH1233\n"
     ]
    },
    {
     "data": {
      "text/plain": [
       "'Invalid Password'"
      ]
     },
     "execution_count": 8,
     "metadata": {},
     "output_type": "execute_result"
    }
   ],
   "source": [
    "password = input(\"Enter your password: \")\n",
    "password_check(password)"
   ]
  },
  {
   "cell_type": "code",
   "execution_count": 9,
   "id": "d8f6722e-79f5-4d87-841c-d47dea1b48d5",
   "metadata": {},
   "outputs": [
    {
     "name": "stdin",
     "output_type": "stream",
     "text": [
      "Enter your password:  bbDD1%^&56\n"
     ]
    },
    {
     "data": {
      "text/plain": [
       "'Valid Password'"
      ]
     },
     "execution_count": 9,
     "metadata": {},
     "output_type": "execute_result"
    }
   ],
   "source": [
    "password = input(\"Enter your password: \")\n",
    "password_check(password)"
   ]
  },
  {
   "cell_type": "code",
   "execution_count": 10,
   "id": "5a6ce4c5-f8cf-4699-8283-0baa2595b438",
   "metadata": {},
   "outputs": [
    {
     "name": "stdin",
     "output_type": "stream",
     "text": [
      "Enter your password:  hgfDT123JK\n"
     ]
    },
    {
     "data": {
      "text/plain": [
       "'Invalid Password'"
      ]
     },
     "execution_count": 10,
     "metadata": {},
     "output_type": "execute_result"
    }
   ],
   "source": [
    "password = input(\"Enter your password: \")\n",
    "password_check(password)"
   ]
  },
  {
   "cell_type": "markdown",
   "id": "f2c568af-98d3-4e7d-83fa-8073989674ec",
   "metadata": {},
   "source": [
    "***"
   ]
  },
  {
   "cell_type": "markdown",
   "id": "59b407c7-f194-4cbd-805f-02e09b13c0a7",
   "metadata": {},
   "source": [
    "**2. Solve the below-given questions using at least one of the following:**<br>\n",
    "> **1. Lambda function**<br>\n",
    "**2. Filter function**<br>\n",
    "**3. Zap function**<br>\n",
    "**4. List Comprehension**"
   ]
  },
  {
   "cell_type": "markdown",
   "id": "3deceb84-e4ec-4e89-bc31-ff47d891b94e",
   "metadata": {},
   "source": [
    "* **Check if the string starts with a particular letter**"
   ]
  },
  {
   "cell_type": "code",
   "execution_count": 18,
   "id": "d4d7624c-2bc1-4c97-b115-2186fd7db978",
   "metadata": {},
   "outputs": [
    {
     "name": "stdout",
     "output_type": "stream",
     "text": [
      "No, string doesn't starts with B\n",
      "Yes, string starts with B\n"
     ]
    }
   ],
   "source": [
    "# Check if string starts with letter B\n",
    "s1  = \"ant\"\n",
    "s2 = \"ball\"\n",
    "out1 = lambda x : \"Yes, string starts with B\" if x.lower().startswith(\"b\") else \"No, string doesn't starts with B\"\n",
    "print(out1(s1))\n",
    "print(out1(s2))"
   ]
  },
  {
   "cell_type": "markdown",
   "id": "7bccfd25-e393-4809-8377-198e0d83d809",
   "metadata": {},
   "source": [
    "* **Check if the string is numeric**"
   ]
  },
  {
   "cell_type": "code",
   "execution_count": 19,
   "id": "6fa4c824-1283-43cc-b843-83f841e0514b",
   "metadata": {},
   "outputs": [
    {
     "name": "stdout",
     "output_type": "stream",
     "text": [
      "String is numeric\n",
      "String is not numeric\n"
     ]
    }
   ],
   "source": [
    "n1 = \"12345\"\n",
    "n2 = \"srt3\"\n",
    "numeric = lambda x:\"String is numeric\" if x.isnumeric() else \"String is not numeric\"\n",
    "print(numeric(n1))\n",
    "print(numeric(n2))"
   ]
  },
  {
   "cell_type": "markdown",
   "id": "ef993108-fabf-4efb-8b3b-66b15e15c6fd",
   "metadata": {},
   "source": [
    "* **Sort a list of tuples having fruit names and their quantity. [(\"mango\",99),(\"orange\",80), (\"grapes\", 1000)]**"
   ]
  },
  {
   "cell_type": "code",
   "execution_count": 20,
   "id": "508c4db5-aadd-423e-8ca4-2d20a908620e",
   "metadata": {},
   "outputs": [
    {
     "name": "stdout",
     "output_type": "stream",
     "text": [
      "[('orange', 80), ('mango', 99), ('grapes', 1000)]\n"
     ]
    }
   ],
   "source": [
    "list1 = [(\"mango\",99),(\"orange\",80), (\"grapes\", 1000)]\n",
    "sort_tuple = lambda x : sorted(x,key = lambda y:y[1])\n",
    "\n",
    "print(sort_tuple(list1))"
   ]
  },
  {
   "cell_type": "markdown",
   "id": "ba19a208-5644-49f2-9724-985e638a9b57",
   "metadata": {},
   "source": [
    "* **Find the squares of numbers from 1 to 10**"
   ]
  },
  {
   "cell_type": "code",
   "execution_count": 21,
   "id": "77e27c2a-6caa-4c2e-8d0f-84a24b9efc67",
   "metadata": {},
   "outputs": [
    {
     "name": "stdout",
     "output_type": "stream",
     "text": [
      "[1, 4, 9, 16, 25, 36, 49, 64, 81, 100]\n"
     ]
    }
   ],
   "source": [
    "square_num = [i**2 for i in range(1,11)]\n",
    "print(square_num)"
   ]
  },
  {
   "cell_type": "markdown",
   "id": "5c551d94-f83d-4362-8a9a-f5cda09a40aa",
   "metadata": {},
   "source": [
    "* **Find the cube root of numbers from 1 to 10**"
   ]
  },
  {
   "cell_type": "code",
   "execution_count": 25,
   "id": "dc9656fc-2648-42d0-aaa3-f74dbbc023ad",
   "metadata": {},
   "outputs": [
    {
     "name": "stdout",
     "output_type": "stream",
     "text": [
      "[1.0, 1.26, 1.442, 1.587, 1.71, 1.817, 1.913, 2.0, 2.08, 2.154]\n"
     ]
    }
   ],
   "source": [
    "cube_root = [ round(i**(1/3),3) for i in range(1,11)]\n",
    "print(cube_root)"
   ]
  },
  {
   "cell_type": "markdown",
   "id": "aa370b68-d714-4e46-b760-a04e4c875564",
   "metadata": {},
   "source": [
    "* **Check if a given number is even**"
   ]
  },
  {
   "cell_type": "code",
   "execution_count": 26,
   "id": "d9b9194a-db18-4824-861c-57b500f07aa2",
   "metadata": {},
   "outputs": [
    {
     "name": "stdout",
     "output_type": "stream",
     "text": [
      "Even\n",
      "Odd\n"
     ]
    }
   ],
   "source": [
    "num1 = 4\n",
    "num2 = 5\n",
    "even = lambda x:\"Even\" if x%2==0 else \"Odd\"\n",
    "print(even(num1))\n",
    "print(even(num2))"
   ]
  },
  {
   "cell_type": "markdown",
   "id": "00383ca3-6ed3-4c82-903d-2691312493b6",
   "metadata": {},
   "source": [
    "* **Filter odd numbers from the given list**<br>\n",
    "&emsp; **[1,2,3,4,5,6,7,8,9,10]**"
   ]
  },
  {
   "cell_type": "code",
   "execution_count": 29,
   "id": "e2cfcd17-7caa-477b-bdc7-e9c4cfd96366",
   "metadata": {},
   "outputs": [
    {
     "name": "stdout",
     "output_type": "stream",
     "text": [
      "[1, 3, 5, 7, 9]\n"
     ]
    }
   ],
   "source": [
    "l1 = [1,2,3,4,5,6,7,8,9,10]\n",
    "odd_num = list(filter(lambda x: x%2!=0 ,l1))\n",
    "print(odd_num)"
   ]
  },
  {
   "cell_type": "markdown",
   "id": "83fa6af9-0b31-4cbb-95f9-3944189f35e5",
   "metadata": {},
   "source": [
    "* **Sort a list of integers into positive and negative integers lists**<br>\n",
    "&emsp; **[1,2,3,4,5,6,-1,-2,-3,-4,-5,0]**"
   ]
  },
  {
   "cell_type": "code",
   "execution_count": 30,
   "id": "d05c7683-074c-41ae-96cd-8ab66c85742c",
   "metadata": {},
   "outputs": [
    {
     "name": "stdout",
     "output_type": "stream",
     "text": [
      "[1, 2, 3, 4, 5, 6]\n",
      "[-1, -2, -3, -4, -5]\n"
     ]
    }
   ],
   "source": [
    "l2 = [1,2,3,4,5,6,-1,-2,-3,-4,-5,0]\n",
    "positive = list(filter(lambda x: x>0 ,l2))\n",
    "negative = list(filter(lambda x: x<0 ,l2))\n",
    "print(positive)\n",
    "print(negative)"
   ]
  },
  {
   "cell_type": "markdown",
   "id": "8d7193f9-a61b-4f8e-9419-327f83ced751",
   "metadata": {},
   "source": [
    "*** "
   ]
  }
 ],
 "metadata": {
  "kernelspec": {
   "display_name": "Python 3 (ipykernel)",
   "language": "python",
   "name": "python3"
  },
  "language_info": {
   "codemirror_mode": {
    "name": "ipython",
    "version": 3
   },
   "file_extension": ".py",
   "mimetype": "text/x-python",
   "name": "python",
   "nbconvert_exporter": "python",
   "pygments_lexer": "ipython3",
   "version": "3.10.8"
  }
 },
 "nbformat": 4,
 "nbformat_minor": 5
}

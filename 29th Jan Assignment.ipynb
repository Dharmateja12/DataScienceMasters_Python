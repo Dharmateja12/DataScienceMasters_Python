{
 "cells": [
  {
   "cell_type": "markdown",
   "id": "7835f3cb-6722-4b74-992f-595b4e45a7fe",
   "metadata": {},
   "source": [
    "**1. Who developed Python Programming Language?**"
   ]
  },
  {
   "cell_type": "markdown",
   "id": "b0392113-30d8-4479-b41b-8efef007abc7",
   "metadata": {},
   "source": [
    "&emsp; Guido Van Rossum"
   ]
  },
  {
   "cell_type": "markdown",
   "id": "be1b4f88-9af8-4c8d-9a13-62d7bde0b0ac",
   "metadata": {},
   "source": [
    "***"
   ]
  },
  {
   "cell_type": "markdown",
   "id": "31456066-ed2b-4ad3-a093-abd4ae5ffbf4",
   "metadata": {},
   "source": [
    "**2.  Which type of Programming does Python support?**"
   ]
  },
  {
   "cell_type": "markdown",
   "id": "0ff54d6e-609e-413f-ac70-52837d28effd",
   "metadata": {},
   "source": [
    "&emsp; Python supports structured, functional and object-oriented programming"
   ]
  },
  {
   "cell_type": "markdown",
   "id": "42c8af51-147a-4442-9baf-7d63d6b08c28",
   "metadata": {},
   "source": [
    "*** "
   ]
  },
  {
   "cell_type": "markdown",
   "id": "4c337fa8-f168-4517-a69b-a8b1dd567f5d",
   "metadata": {},
   "source": [
    "**3. Is Python case sensitive when dealing with identifiers?**"
   ]
  },
  {
   "cell_type": "markdown",
   "id": "bf4b8f1c-e93a-43b7-94a7-3b504ac853f6",
   "metadata": {},
   "source": [
    "&emsp; Yes "
   ]
  },
  {
   "cell_type": "markdown",
   "id": "8f2ca89d-6721-4667-87ec-f942a689dc4a",
   "metadata": {},
   "source": [
    "*** "
   ]
  },
  {
   "cell_type": "markdown",
   "id": "33fa1d53-c518-4150-bad2-20ad856dcce2",
   "metadata": {},
   "source": [
    "**4. What is the correct extension of the Python file?**"
   ]
  },
  {
   "cell_type": "markdown",
   "id": "afb6ef9f-a3b2-4369-9a17-ac9e7b80749f",
   "metadata": {},
   "source": [
    "&emsp; **\".py\"** is the correct extension of python file"
   ]
  },
  {
   "cell_type": "markdown",
   "id": "4b75371b-6410-454a-a9a2-bfc0b5befc4f",
   "metadata": {},
   "source": [
    "***"
   ]
  },
  {
   "cell_type": "markdown",
   "id": "0b6dce5f-c891-47ad-b0c2-e7d153b9c488",
   "metadata": {},
   "source": [
    "**5. Is Python code compiled or interpreted?**"
   ]
  },
  {
   "cell_type": "markdown",
   "id": "681687ef-5b63-48db-87a4-5f1eb1f5591c",
   "metadata": {},
   "source": [
    "Python is both compiled as well as an interpreted language. This means when we run a python code, it is first compiled and then interpreted line by line. The compilation part is mostly hidden from the user."
   ]
  },
  {
   "cell_type": "markdown",
   "id": "2d7fba4c-0992-418f-9397-136e106efebf",
   "metadata": {},
   "source": [
    "*** "
   ]
  },
  {
   "cell_type": "markdown",
   "id": "e9cf97a4-144f-4c22-8f6d-f66a595b3170",
   "metadata": {},
   "source": [
    "**6.  Name a few blocks of code used to define in Python language?**"
   ]
  },
  {
   "cell_type": "markdown",
   "id": "42d930a7-67c4-4959-8302-04e9e310c300",
   "metadata": {},
   "source": [
    "* Code blocks are sections of code that are grouped together based on their indentation level. \n",
    "* They are used to define the scope of the code, such as in functions, loops, and conditional statements.\n",
    "\n",
    "For example:\n",
    "\n",
    "Function definition block: A block of code that defines a function and its associated code."
   ]
  },
  {
   "cell_type": "markdown",
   "id": "5fa10328-644b-4d57-aa58-76ced2abfb92",
   "metadata": {},
   "source": [
    "***"
   ]
  },
  {
   "cell_type": "markdown",
   "id": "59c81bf3-be94-4159-a8b2-df4747f62c17",
   "metadata": {},
   "source": [
    "**7.  State a character used to give single-line comments in Python?**"
   ]
  },
  {
   "cell_type": "markdown",
   "id": "99297335-e1b8-4cb0-aa69-5d46f64f5c09",
   "metadata": {},
   "source": [
    "hash symbol #"
   ]
  },
  {
   "cell_type": "markdown",
   "id": "fc3c8849-2cc3-4222-9f8a-0d7ba5830cc0",
   "metadata": {},
   "source": [
    "***"
   ]
  },
  {
   "cell_type": "markdown",
   "id": "d4b7b6f7-7e73-40d2-b8cf-0a3b84d030e4",
   "metadata": {},
   "source": [
    "**8. Mention functions which can help us to find the version of python that we are currently working on?**"
   ]
  },
  {
   "cell_type": "code",
   "execution_count": 1,
   "id": "abc6eff2-739d-411d-a245-e62a4eac4c32",
   "metadata": {},
   "outputs": [
    {
     "name": "stdout",
     "output_type": "stream",
     "text": [
      "3.10.8 | packaged by conda-forge | (main, Nov 22 2022, 08:26:04) [GCC 10.4.0]\n"
     ]
    }
   ],
   "source": [
    "import sys\n",
    "print(sys.version)"
   ]
  },
  {
   "cell_type": "code",
   "execution_count": 3,
   "id": "ea781dda-c313-4049-9fc3-0177c6444f40",
   "metadata": {},
   "outputs": [
    {
     "name": "stdout",
     "output_type": "stream",
     "text": [
      "3.10.8\n"
     ]
    }
   ],
   "source": [
    "from platform import python_version\n",
    "print(python_version())"
   ]
  },
  {
   "cell_type": "markdown",
   "id": "2b9fe70f-f27f-425d-bced-128bd316311e",
   "metadata": {},
   "source": [
    "***"
   ]
  },
  {
   "cell_type": "markdown",
   "id": "1227daae-5957-4a55-a8ed-67a859a75b03",
   "metadata": {},
   "source": [
    "**9. Python supports the creation of anonymous functions at runtime, using a construct called**"
   ]
  },
  {
   "cell_type": "markdown",
   "id": "601505fe-27db-4f06-89da-fc3f85136f0c",
   "metadata": {},
   "source": [
    "Python supports the creation of anonymous functions at runtime, using a construct called **lambda**."
   ]
  },
  {
   "cell_type": "markdown",
   "id": "e3bbe51c-b8f8-4f51-bec6-9c468dbdcd8d",
   "metadata": {},
   "source": [
    "***"
   ]
  },
  {
   "cell_type": "markdown",
   "id": "8376b113-c08a-41de-8e06-7baf24f5db6d",
   "metadata": {},
   "source": [
    "**10. What does pip stand for python?**"
   ]
  },
  {
   "cell_type": "markdown",
   "id": "a491895c-0d7b-47bb-b8a3-ccb9f8f3be95",
   "metadata": {},
   "source": [
    "PIP stands for **P**IP **I**nstalls **P**ackages"
   ]
  },
  {
   "cell_type": "markdown",
   "id": "94baf694-1369-4c6e-8e2c-fe37e7bb7bf8",
   "metadata": {},
   "source": [
    "***"
   ]
  },
  {
   "cell_type": "markdown",
   "id": "44ac6c1b-4602-4a0f-a413-01e268d33628",
   "metadata": {},
   "source": [
    "**11. Mention a few built-in functions in python?**"
   ]
  },
  {
   "cell_type": "markdown",
   "id": "962a34fa-48a9-423b-87f1-e7b4c983fd2e",
   "metadata": {},
   "source": [
    "* print()\n",
    "* input()\n",
    "* int()\n",
    "* str()\n",
    "* id()\n",
    "* list()\n",
    "* len()"
   ]
  },
  {
   "cell_type": "markdown",
   "id": "4db7367e-6bdb-4dfa-82f9-662c5a6696db",
   "metadata": {},
   "source": [
    "*** "
   ]
  },
  {
   "cell_type": "markdown",
   "id": "de448b71-6212-4176-8d9f-98a9dfe632d7",
   "metadata": {},
   "source": [
    "**12. What is the maximum possible length of an identifier in Python?**"
   ]
  },
  {
   "cell_type": "markdown",
   "id": "ffff50e8-6115-44f1-9449-d0de3723678b",
   "metadata": {},
   "source": [
    "Maximum possible length of an identifier in Python is 79 characters"
   ]
  },
  {
   "cell_type": "markdown",
   "id": "9575e7fa-8ab2-4162-9c02-7046881caa26",
   "metadata": {},
   "source": [
    "***"
   ]
  },
  {
   "cell_type": "markdown",
   "id": "2a4883d4-0769-4f23-b06e-ca3e541f08be",
   "metadata": {},
   "source": [
    "**13. What are the benefits of using Python?**"
   ]
  },
  {
   "cell_type": "markdown",
   "id": "df7f0d33-e9f7-4a3c-8a1d-9037e7f9b18f",
   "metadata": {},
   "source": [
    "Python is used in many areas like:\n",
    "* Database Access\n",
    "* Software Development\n",
    "* Data Science and Machine Learning\n",
    "* Web frameworks and applications \n",
    "* Graphic design, image processing applications, Games, and Scientific/ computational Applications"
   ]
  },
  {
   "cell_type": "markdown",
   "id": "161fcd77-9efb-4502-a257-7670dbfbf8f0",
   "metadata": {},
   "source": [
    "***"
   ]
  },
  {
   "cell_type": "markdown",
   "id": "b76f0dfb-14fe-4c61-a9c2-0155f1ad70dd",
   "metadata": {},
   "source": [
    "**14.  How is memory managed in Python?**"
   ]
  },
  {
   "cell_type": "markdown",
   "id": "e034632a-b085-427f-865a-e0c444493038",
   "metadata": {},
   "source": [
    "There are two parts of memory:\n",
    "* stack memory\n",
    "* heap memory\n",
    "\n",
    "The methods/method calls and the references are stored in stack memory and all the values objects are stored in a private heap."
   ]
  },
  {
   "cell_type": "markdown",
   "id": "fb3df33f-d419-49ae-b835-6b9703049b3c",
   "metadata": {},
   "source": [
    "***"
   ]
  },
  {
   "cell_type": "markdown",
   "id": "4a470193-821c-42ec-a012-937ce700b7ed",
   "metadata": {},
   "source": [
    "**15. How to install Python on Windows and set path variables?**"
   ]
  },
  {
   "cell_type": "markdown",
   "id": "37a6eb63-327a-428f-998b-e5f18a69bd16",
   "metadata": {},
   "source": [
    "* Install python from this link https://www.python.org/downloads/\n",
    "* After this, install it on your PC. Look for the location where PYTHON has been installed on your PC using tge following command on your command prompt: cmd python.\n",
    "* Then go to advanced system settings and add new variable and name it as PYTHON_NAME and paste the copied path.\n",
    "* Then look for the path variable, select it's value and select edit\n",
    "* Add a semicolon towards the end of the value if it's not present and then type %PYTHON_HOME%"
   ]
  },
  {
   "cell_type": "markdown",
   "id": "cec27f9a-16ba-4acb-9666-4fa64c4fe9e9",
   "metadata": {},
   "source": [
    "*** "
   ]
  },
  {
   "cell_type": "markdown",
   "id": "f5276ffd-368a-4ba9-9a90-b9f26dcde7bf",
   "metadata": {},
   "source": [
    "**16. Is indentation required in python?**"
   ]
  },
  {
   "cell_type": "markdown",
   "id": "fe3112d1-1dec-4c14-8898-49a6fafe5a74",
   "metadata": {},
   "source": [
    "Indentation is necessary for Python. It specifies a block of code. All code within loops, classes, functions, etc., is defined within an indented block. It is usually done using four space characters. If your code is not indented necessarily, it will not execute accurately and will throw errors."
   ]
  },
  {
   "cell_type": "markdown",
   "id": "c0013810-7781-4f84-bee0-cafe905e1118",
   "metadata": {},
   "source": [
    "***"
   ]
  },
  {
   "cell_type": "code",
   "execution_count": null,
   "id": "0514ed42-25ff-4880-8e88-fd663808b7b3",
   "metadata": {},
   "outputs": [],
   "source": []
  }
 ],
 "metadata": {
  "kernelspec": {
   "display_name": "Python 3 (ipykernel)",
   "language": "python",
   "name": "python3"
  },
  "language_info": {
   "codemirror_mode": {
    "name": "ipython",
    "version": 3
   },
   "file_extension": ".py",
   "mimetype": "text/x-python",
   "name": "python",
   "nbconvert_exporter": "python",
   "pygments_lexer": "ipython3",
   "version": "3.10.8"
  }
 },
 "nbformat": 4,
 "nbformat_minor": 5
}

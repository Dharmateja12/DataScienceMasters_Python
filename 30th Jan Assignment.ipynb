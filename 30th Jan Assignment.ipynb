{
 "cells": [
  {
   "cell_type": "markdown",
   "id": "0dca35b5-63d9-4b59-b76b-85171fe645a8",
   "metadata": {},
   "source": [
    "**1. Write a program to accept percentage from the user and display the grade according to the following \n",
    "criteria:**\n",
    "\n",
    "| Marks | Grade |\n",
    "| ----- | ----- |\n",
    "| >90 | A |\n",
    "| >80 and <=90 | B |\n",
    "| >=60 and <=80 | C |\n",
    "| below 60 | D |"
   ]
  },
  {
   "cell_type": "code",
   "execution_count": 6,
   "id": "ac930472-72bf-46e5-9162-c967861aea85",
   "metadata": {},
   "outputs": [
    {
     "name": "stdin",
     "output_type": "stream",
     "text": [
      "Enter you percentage (only numbers):  75\n"
     ]
    }
   ],
   "source": [
    "percent  = int(input(\"Enter you percentage (only numbers): \"))"
   ]
  },
  {
   "cell_type": "code",
   "execution_count": 7,
   "id": "161ecc18-69bc-411a-8b7d-df845495ab04",
   "metadata": {},
   "outputs": [
    {
     "name": "stdout",
     "output_type": "stream",
     "text": [
      "Your Grade is: C\n"
     ]
    }
   ],
   "source": [
    "if percent >90:\n",
    "    print(\"Your Grade is: A\")\n",
    "elif percent >80 and percent <=90:\n",
    "    print(\"Your Grade is: B\")\n",
    "elif percent >=60 and percent <=80:\n",
    "    print(\"Your Grade is: C\")\n",
    "elif percent <60:\n",
    "    print(\"Your Grade is: D\")"
   ]
  },
  {
   "cell_type": "markdown",
   "id": "ea1513f3-4ce6-44df-b3da-8349ca68fc8d",
   "metadata": {},
   "source": [
    "***"
   ]
  },
  {
   "cell_type": "markdown",
   "id": "8cf6992f-30ff-433d-acb8-2b48db38c7d3",
   "metadata": {},
   "source": [
    "**2.  Write a program to accept the cost price of a bike and display the road tax to be paid according to the \n",
    "following criteria:**\n",
    "| Tax | Cost Price(in Rs) |\n",
    "| ----- | ----- |\n",
    "| 15% | >100000 |\n",
    "| 10% | >50000 and <=100000 |\n",
    "| 5% | <=50000 |"
   ]
  },
  {
   "cell_type": "code",
   "execution_count": 13,
   "id": "4b631eb7-e0a8-4804-b981-b1c9289dd8bc",
   "metadata": {},
   "outputs": [
    {
     "name": "stdin",
     "output_type": "stream",
     "text": [
      "Enter Price of Bike:  123456\n"
     ]
    }
   ],
   "source": [
    "price = int(input(\"Enter Price of Bike: \"))"
   ]
  },
  {
   "cell_type": "code",
   "execution_count": 17,
   "id": "d0449e4c-355c-4b40-b350-5888d1ef801f",
   "metadata": {},
   "outputs": [
    {
     "name": "stdout",
     "output_type": "stream",
     "text": [
      "Tax to be paid: 18518.40\n"
     ]
    }
   ],
   "source": [
    "if price > 100000:\n",
    "    print(f\"Tax to be paid: {0.15*price:.2f}\")\n",
    "elif price>50000 and price<=100000:\n",
    "    print(f\"Tax to be paid: {0.10*price:.2f}\")\n",
    "elif price<=50000:\n",
    "    print(f\"Tax to be paid: {0.05*price:.2f}\")"
   ]
  },
  {
   "cell_type": "markdown",
   "id": "31fa0474-7b01-43b6-a890-85ab9100efc4",
   "metadata": {},
   "source": [
    "***"
   ]
  },
  {
   "cell_type": "markdown",
   "id": "8d40eb86-2b7d-4b6b-8fc2-9bad619366dd",
   "metadata": {},
   "source": [
    "**3. Accept any city from the user and display monuments of that city.**\n",
    "| City | Monument |\n",
    "| ----- | ----- |\n",
    "| Delhi | Red Fort |\n",
    "| Agra | Taj Mahal |\n",
    "| Jaipur | Jal Mahal |"
   ]
  },
  {
   "cell_type": "code",
   "execution_count": 20,
   "id": "6a5e955d-b4bf-4894-9b5f-e8a05b18ca43",
   "metadata": {},
   "outputs": [
    {
     "name": "stdin",
     "output_type": "stream",
     "text": [
      "Enter any city from (Delhi,Agra,Jaipur):  jaiPur\n"
     ]
    }
   ],
   "source": [
    "city  = input(\"Enter any city from (Delhi,Agra,Jaipur): \")"
   ]
  },
  {
   "cell_type": "code",
   "execution_count": 21,
   "id": "5750ecf5-da3e-4528-a27c-50074dad767e",
   "metadata": {},
   "outputs": [
    {
     "name": "stdout",
     "output_type": "stream",
     "text": [
      "Monument in Jaipur is Jal Mahal\n"
     ]
    }
   ],
   "source": [
    "if city.lower() == \"delhi\":\n",
    "    print(f\"Monument in {city.title()} is Red Fort\")\n",
    "elif city.lower() == \"agra\":\n",
    "    print(f\"Monument in {city.title()} is Taj Mahal\")\n",
    "elif city.lower() == \"jaipur\":\n",
    "    print(f\"Monument in {city.title()} is Jal Mahal\")"
   ]
  },
  {
   "cell_type": "markdown",
   "id": "b370c23c-1f34-40f5-9644-9c57ca9a29df",
   "metadata": {},
   "source": [
    "***"
   ]
  },
  {
   "cell_type": "markdown",
   "id": "1c7e48dd-74d9-4b1a-89dd-4c9e2cf54ae6",
   "metadata": {},
   "source": [
    "**4. Check how many times a given number can be divided by 3 before it is less than or equal to 10.**"
   ]
  },
  {
   "cell_type": "code",
   "execution_count": 34,
   "id": "41799f37-b685-4777-ad7a-df5a7812ab3a",
   "metadata": {},
   "outputs": [
    {
     "name": "stdin",
     "output_type": "stream",
     "text": [
      " Enter any positive number:  45\n"
     ]
    }
   ],
   "source": [
    "num = int(input(\" Enter any positive number: \"))"
   ]
  },
  {
   "cell_type": "code",
   "execution_count": 35,
   "id": "2f6c60b5-33cb-4bd0-81b8-afed50d9d943",
   "metadata": {},
   "outputs": [
    {
     "name": "stdout",
     "output_type": "stream",
     "text": [
      "Number of times 45 is divided by 3 before it is less than or equal to 10 is 2\n"
     ]
    }
   ],
   "source": [
    "count = 0\n",
    "num2 = num\n",
    "while num>10 and num%3==0:\n",
    "    count += 1\n",
    "    num /= 3\n",
    "print(f\"Number of times {int(num2)} is divided by 3 before it is less than or equal to 10 is {count}\")    "
   ]
  },
  {
   "cell_type": "markdown",
   "id": "57c58a94-c84f-472f-a8e4-12e80d5715d3",
   "metadata": {},
   "source": [
    "***"
   ]
  },
  {
   "cell_type": "markdown",
   "id": "26afe64e-14ca-4de1-8b97-5027aae952b2",
   "metadata": {},
   "source": [
    "**5. Why and When to Use while Loop in Python give a detailed description with example.**"
   ]
  },
  {
   "cell_type": "markdown",
   "id": "1168a90d-8caa-4b3a-8f1f-a07a18dc88ac",
   "metadata": {},
   "source": [
    "* A While loop in Python allows a part of the code to be executed repeatedly as long as a given condition is true.\n",
    "* It is typically used when the number of iterations is not known.\n",
    "* Python While Loop Example:"
   ]
  },
  {
   "cell_type": "code",
   "execution_count": 36,
   "id": "5b6a2451-2537-4110-b6de-201eb965f0f8",
   "metadata": {},
   "outputs": [
    {
     "name": "stdout",
     "output_type": "stream",
     "text": [
      "1\n",
      "2\n",
      "3\n",
      "4\n"
     ]
    }
   ],
   "source": [
    "i = 1\n",
    "while i < 5 :\n",
    "    print(i)\n",
    "    i += 1"
   ]
  },
  {
   "cell_type": "markdown",
   "id": "45d2679f-00d0-426c-94b3-fdcdce62785c",
   "metadata": {},
   "source": [
    "***"
   ]
  },
  {
   "cell_type": "markdown",
   "id": "59528a50-187a-4b54-9845-8f77a00d539c",
   "metadata": {},
   "source": [
    "**6. Use nested while loop to print 3 different pattern.**"
   ]
  },
  {
   "cell_type": "markdown",
   "id": "c6b2489e-0cff-4727-8a06-2c03aefb985f",
   "metadata": {},
   "source": [
    "##### Pattern 1"
   ]
  },
  {
   "cell_type": "code",
   "execution_count": 37,
   "id": "dbcd703e-3219-4e4c-b899-eb36869a2e02",
   "metadata": {},
   "outputs": [
    {
     "name": "stdout",
     "output_type": "stream",
     "text": [
      "* \n",
      "* * \n",
      "* * * \n",
      "* * * * \n",
      "* * * * * \n"
     ]
    }
   ],
   "source": [
    "n=5\n",
    " \n",
    "i=1;j=0\n",
    "while(i<=n):\n",
    "    while(j<=i-1):\n",
    "        print(\"* \",end=\"\")\n",
    "        j+=1\n",
    "    print(\"\\r\")\n",
    "    j=0;i+=1"
   ]
  },
  {
   "cell_type": "code",
   "execution_count": 38,
   "id": "9a58e5a8-cb92-4102-b809-fa849cf13d49",
   "metadata": {},
   "outputs": [
    {
     "name": "stdout",
     "output_type": "stream",
     "text": [
      "* * * * * \n",
      "* * * * \n",
      "* * * \n",
      "* * \n",
      "* \n"
     ]
    }
   ],
   "source": [
    "n = 5\n",
    " \n",
    "i = 1\n",
    "while i <= n :\n",
    "    j = n\n",
    "    while j >= i:\n",
    "        print(\"*\", end = \" \")\n",
    "        j -= 1\n",
    "    print()\n",
    "    i += 1"
   ]
  },
  {
   "cell_type": "code",
   "execution_count": 42,
   "id": "16e61605-f76f-4e13-9073-118f40fffd91",
   "metadata": {},
   "outputs": [
    {
     "name": "stdout",
     "output_type": "stream",
     "text": [
      "    * \n",
      "   * * \n",
      "  * * * \n",
      " * * * * \n",
      "* * * * * \n"
     ]
    }
   ],
   "source": [
    "n=5\n",
    "i = 1\n",
    "while i<=n:\n",
    "      print(\" \"*(n-i) + \"* \" * i)\n",
    "      i+=1 "
   ]
  },
  {
   "cell_type": "markdown",
   "id": "ea60fbf0-f907-412a-bce3-613f8be44751",
   "metadata": {},
   "source": [
    "*** "
   ]
  },
  {
   "cell_type": "markdown",
   "id": "a778106d-9cbe-404a-91a8-c0b4bf8f3da7",
   "metadata": {},
   "source": [
    "**7. Reverse a while loop to display numbers from 10 to 1.**"
   ]
  },
  {
   "cell_type": "code",
   "execution_count": 1,
   "id": "b8517c90-1b64-46b7-9fb6-dc2ab995060f",
   "metadata": {},
   "outputs": [
    {
     "name": "stdout",
     "output_type": "stream",
     "text": [
      "10\n",
      "9\n",
      "8\n",
      "7\n",
      "6\n",
      "5\n",
      "4\n",
      "3\n",
      "2\n",
      "1\n"
     ]
    }
   ],
   "source": [
    "i =10\n",
    "while i >0:\n",
    "    print(i)\n",
    "    i -= 1"
   ]
  },
  {
   "cell_type": "markdown",
   "id": "f5e2b204-39b7-475d-a35a-069af01e8779",
   "metadata": {},
   "source": [
    "***"
   ]
  },
  {
   "cell_type": "code",
   "execution_count": null,
   "id": "41f80e37-1299-41de-9a78-014ee0066af4",
   "metadata": {},
   "outputs": [],
   "source": []
  }
 ],
 "metadata": {
  "kernelspec": {
   "display_name": "Python 3 (ipykernel)",
   "language": "python",
   "name": "python3"
  },
  "language_info": {
   "codemirror_mode": {
    "name": "ipython",
    "version": 3
   },
   "file_extension": ".py",
   "mimetype": "text/x-python",
   "name": "python",
   "nbconvert_exporter": "python",
   "pygments_lexer": "ipython3",
   "version": "3.10.8"
  }
 },
 "nbformat": 4,
 "nbformat_minor": 5
}

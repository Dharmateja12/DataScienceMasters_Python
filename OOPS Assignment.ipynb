{
 "cells": [
  {
   "cell_type": "markdown",
   "id": "53a98c7b-f6ec-4001-9ec4-ef0714c47991",
   "metadata": {},
   "source": [
    "**1. Explain Class and Object with respect to Object-Oriented Programming. Give a suitable example.**"
   ]
  },
  {
   "cell_type": "markdown",
   "id": "bd315a7d-3df0-4442-ac4d-27d17c0a566d",
   "metadata": {},
   "source": [
    "* **Class** is a detailed description, the definition, and the template of what an object will be. But it is not the object itself. Also, what we call, a class is the building block that leads to Object-Oriented Programming. It is a user-defined data type, that holds its own data members and member functions, which can be accessed and used by creating an instance of that class. It is the blueprint of any object.\n",
    "* **Object** is an instance of a class. All data members and member functions of the class can be accessed with the help of objects. When a class is defined, no memory is allocated, but memory is allocated when it is instantiated\n",
    "* For example, suppose Bicycle is a class then MountainBicycle , SportsBicycle , TouringBicycle , etc can be considered as objects of the class."
   ]
  },
  {
   "cell_type": "markdown",
   "id": "94bb01a7-0818-46e1-8324-520af286f4a4",
   "metadata": {},
   "source": [
    "***"
   ]
  },
  {
   "cell_type": "markdown",
   "id": "449063e2-11c0-4a83-9e11-8973e5ee04b9",
   "metadata": {},
   "source": [
    "**2. Name the four pillars of OOPs.**"
   ]
  },
  {
   "cell_type": "markdown",
   "id": "02cea325-b4a0-4729-b6b0-42851f098457",
   "metadata": {},
   "source": [
    "* Abstraction\n",
    "* Encapsulation\n",
    "* Inheritance\n",
    "* Polymorphism"
   ]
  },
  {
   "cell_type": "markdown",
   "id": "563aab30-2394-4f76-95ed-fda51ecb247b",
   "metadata": {},
   "source": [
    "***"
   ]
  },
  {
   "cell_type": "markdown",
   "id": "0efea220-b0a7-49ea-89c3-ba2e83d3de18",
   "metadata": {},
   "source": [
    "**3. Explain why the __init__() function is used. Give a suitable example.**"
   ]
  },
  {
   "cell_type": "markdown",
   "id": "7c42ebbf-bb6e-4bee-9e87-2bae3d4fe0ce",
   "metadata": {},
   "source": [
    "* **\\_\\_init__** is a special python method that runs whenever a new object is created, these types of functions are called constructors.\n",
    "* Python uses the \\_\\_init__ method as a constructor to initialize the data members when an object is created for the class.\n",
    "* \\_\\_init__ is a magic method called Dunder Methods (These are special methods whose invocation happens internally, and they start and end with double underscores). Other examples for magic methods are: \\_\\_add__, \\_\\_len__, \\_\\_str__, etc."
   ]
  },
  {
   "cell_type": "code",
   "execution_count": 3,
   "id": "7248a670-0db6-423a-982e-fcbfe878b258",
   "metadata": {},
   "outputs": [
    {
     "name": "stdout",
     "output_type": "stream",
     "text": [
      "Used for Initializing Object attributes and will run as soon as object is created\n"
     ]
    }
   ],
   "source": [
    "class Car:\n",
    "    def __init__(self, name):\n",
    "        self.name = name\n",
    "        print(\"Used for Initializing Object attributes and will run as soon as object is created\")\n",
    " \n",
    "    \n",
    " \n",
    "C = Car('Audi R8')"
   ]
  },
  {
   "cell_type": "markdown",
   "id": "3acf017a-201e-4d63-8054-3d89d6f3976f",
   "metadata": {},
   "source": [
    "***"
   ]
  },
  {
   "cell_type": "markdown",
   "id": "da98c28b-8807-4009-a6fa-7c5afea5e00f",
   "metadata": {},
   "source": [
    "**4. Why self is used in OOPs?**"
   ]
  },
  {
   "cell_type": "markdown",
   "id": "d1689fb9-709f-4d41-a059-8ea2cc9ef9cc",
   "metadata": {},
   "source": [
    "* **self** represents the instance of the class. By using the “self”  we can access the attributes and methods of the class in python. It binds the attributes with the given arguments.\n",
    "* The reason you need to use self is because Python does not use any special syntax to refer to instance attributes. Python decided to do methods in a way that makes the instance to which the method belongs be passed automatically, but not received automatically: the first parameter of methods is the instance the method is called on.\n",
    "* In more clear way you can say that SELF has following Characteristic - Self is always pointing to Current Object.\n",
    "* Self is a convention and not a Python keyword .\n",
    "* self is parameter in Instance Method and user can use another parameter name in place of it. But it is advisable to use self because it increases the readability of code, and it is also a good programming practice."
   ]
  },
  {
   "cell_type": "markdown",
   "id": "44cc0263-a733-4e70-8b76-8d951861e06f",
   "metadata": {},
   "source": [
    "***"
   ]
  },
  {
   "cell_type": "markdown",
   "id": "eaae1ca2-b652-4e52-8ec4-792a872be57b",
   "metadata": {},
   "source": [
    "**5. What is inheritance? Give an example for each type of inheritance.**"
   ]
  },
  {
   "cell_type": "markdown",
   "id": "ef48c061-b9b1-4a45-b8fb-4a04c2885c9f",
   "metadata": {},
   "source": [
    "* Inheritance is the capability of one class to derive or inherit the properties from another class. "
   ]
  },
  {
   "cell_type": "markdown",
   "id": "d2d1400a-acb2-4496-9853-7795e7da36b4",
   "metadata": {},
   "source": [
    "#### **Types of Inheritance in Python**"
   ]
  },
  {
   "cell_type": "markdown",
   "id": "dda58e60-5777-426a-9701-fcd54d08ab59",
   "metadata": {},
   "source": [
    "##### **Single Inheritance :** \n",
    "Single inheritance enables a derived class to inherit properties from a single parent class"
   ]
  },
  {
   "cell_type": "code",
   "execution_count": 1,
   "id": "4743653a-bc2c-4253-9491-2b44f3312d84",
   "metadata": {},
   "outputs": [
    {
     "name": "stdout",
     "output_type": "stream",
     "text": [
      "This function is in parent class.\n",
      "This function is in child class.\n"
     ]
    }
   ],
   "source": [
    "\n",
    "class Parent:\n",
    "    def func1(self):\n",
    "        print(\"This function is in parent class.\")\n",
    " \n",
    " \n",
    "class Child(Parent):\n",
    "    def func2(self):\n",
    "        print(\"This function is in child class.\")\n",
    " \n",
    " \n",
    "object = Child()\n",
    "object.func1()\n",
    "object.func2()"
   ]
  },
  {
   "cell_type": "markdown",
   "id": "2f349486-5f4c-469f-b0b7-85ca78ac08a3",
   "metadata": {},
   "source": [
    "##### **Multiple Inheritance :** \n",
    "When a class can be derived from more than one base class this type of inheritance is called multiple inheritances. "
   ]
  },
  {
   "cell_type": "code",
   "execution_count": 4,
   "id": "fb109fa4-15b9-467a-a35f-9a98200f6eb3",
   "metadata": {},
   "outputs": [
    {
     "name": "stdout",
     "output_type": "stream",
     "text": [
      "Father : Prasad\n",
      "Mother : Lakshmi\n"
     ]
    }
   ],
   "source": [
    "class Mother:\n",
    "    mothername = \"\"\n",
    " \n",
    "    def mother(self):\n",
    "        print(self.mothername)\n",
    "\n",
    " \n",
    " \n",
    "class Father:\n",
    "    fathername = \"\"\n",
    " \n",
    "    def father(self):\n",
    "        print(self.fathername)\n",
    " \n",
    " \n",
    "class Son(Mother, Father):\n",
    "    def parents(self):\n",
    "        print(\"Father :\", self.fathername)\n",
    "        print(\"Mother :\", self.mothername)\n",
    " \n",
    " \n",
    "\n",
    "s1 = Son()\n",
    "s1.fathername = \"Prasad\"\n",
    "s1.mothername = \"Lakshmi\"\n",
    "s1.parents()"
   ]
  },
  {
   "cell_type": "markdown",
   "id": "101803f5-64d3-440e-817c-9dafd4504a2d",
   "metadata": {},
   "source": [
    "##### **Multilevel Inheritance :**\n",
    "In multilevel inheritance, features of the base class and the derived class are further inherited into the new derived class. This is similar to a relationship representing a child and a grandfather. "
   ]
  },
  {
   "cell_type": "code",
   "execution_count": 5,
   "id": "12722837-3c1b-4aae-b096-119107885651",
   "metadata": {},
   "outputs": [
    {
     "name": "stdout",
     "output_type": "stream",
     "text": [
      "Krishna\n",
      "Grandfather name : Krishna\n",
      "Father name : Prasad\n",
      "Son name : Teja\n"
     ]
    }
   ],
   "source": [
    "class Grandfather:\n",
    " \n",
    "    def __init__(self, grandfathername):\n",
    "        self.grandfathername = grandfathername\n",
    " \n",
    " \n",
    "class Father(Grandfather):\n",
    "    def __init__(self, fathername, grandfathername):\n",
    "        self.fathername = fathername\n",
    " \n",
    "       \n",
    "        Grandfather.__init__(self, grandfathername)\n",
    " \n",
    " \n",
    "class Son(Father):\n",
    "    def __init__(self, sonname, fathername, grandfathername):\n",
    "        self.sonname = sonname\n",
    " \n",
    "        \n",
    "        Father.__init__(self, fathername, grandfathername)\n",
    " \n",
    "    def print_name(self):\n",
    "        print('Grandfather name :', self.grandfathername)\n",
    "        print(\"Father name :\", self.fathername)\n",
    "        print(\"Son name :\", self.sonname)\n",
    " \n",
    " \n",
    "\n",
    "s1 = Son('Teja','Prasad','Krishna')\n",
    "print(s1.grandfathername)\n",
    "s1.print_name()"
   ]
  },
  {
   "cell_type": "markdown",
   "id": "4c47b593-6958-4138-82f7-ddc26e147197",
   "metadata": {},
   "source": [
    "##### **Hierarchical Inheritance :** \n",
    "When more than one derived class are created from a single base this type of inheritance is called hierarchical inheritance."
   ]
  },
  {
   "cell_type": "code",
   "execution_count": 6,
   "id": "6014b90c-5de3-4f47-9f72-9ea49960d49c",
   "metadata": {},
   "outputs": [
    {
     "name": "stdout",
     "output_type": "stream",
     "text": [
      "This function is in parent class.\n",
      "This function is in child 1.\n",
      "This function is in parent class.\n",
      "This function is in child 2.\n"
     ]
    }
   ],
   "source": [
    "class Parent:\n",
    "    def func1(self):\n",
    "        print(\"This function is in parent class.\")\n",
    " \n",
    "\n",
    " \n",
    "class Child1(Parent):\n",
    "    def func2(self):\n",
    "        print(\"This function is in child 1.\")\n",
    " \n",
    "\n",
    " \n",
    "class Child2(Parent):\n",
    "    def func3(self):\n",
    "        print(\"This function is in child 2.\")\n",
    " \n",
    " \n",
    "\n",
    "object1 = Child1()\n",
    "object2 = Child2()\n",
    "object1.func1()\n",
    "object1.func2()\n",
    "object2.func1()\n",
    "object2.func3()"
   ]
  },
  {
   "cell_type": "markdown",
   "id": "990214d1-89c0-44db-b5c6-c72898ce2d6d",
   "metadata": {},
   "source": [
    "##### **Hybrid Inheritance :** \n",
    "Inheritance consisting of multiple types of inheritance is called hybrid inheritance."
   ]
  },
  {
   "cell_type": "code",
   "execution_count": 7,
   "id": "479a6a58-693b-4e99-9e0e-1d8503a465b9",
   "metadata": {},
   "outputs": [
    {
     "name": "stdout",
     "output_type": "stream",
     "text": [
      "This function is in school.\n",
      "This function is in student 1. \n"
     ]
    }
   ],
   "source": [
    "class School:\n",
    "    def func1(self):\n",
    "        print(\"This function is in school.\")\n",
    " \n",
    " \n",
    "class Student1(School):\n",
    "    def func2(self):\n",
    "        print(\"This function is in student 1. \")\n",
    " \n",
    " \n",
    "class Student2(School):\n",
    "    def func3(self):\n",
    "        print(\"This function is in student 2.\")\n",
    " \n",
    " \n",
    "class Student3(Student1, School):\n",
    "    def func4(self):\n",
    "        print(\"This function is in student 3.\")\n",
    " \n",
    " \n",
    "\n",
    "object = Student3()\n",
    "object.func1()\n",
    "object.func2()"
   ]
  },
  {
   "cell_type": "markdown",
   "id": "b25c5179-3573-4117-9520-c8dfb673f07d",
   "metadata": {},
   "source": [
    "***"
   ]
  }
 ],
 "metadata": {
  "kernelspec": {
   "display_name": "Python 3 (ipykernel)",
   "language": "python",
   "name": "python3"
  },
  "language_info": {
   "codemirror_mode": {
    "name": "ipython",
    "version": 3
   },
   "file_extension": ".py",
   "mimetype": "text/x-python",
   "name": "python",
   "nbconvert_exporter": "python",
   "pygments_lexer": "ipython3",
   "version": "3.10.8"
  }
 },
 "nbformat": 4,
 "nbformat_minor": 5
}
